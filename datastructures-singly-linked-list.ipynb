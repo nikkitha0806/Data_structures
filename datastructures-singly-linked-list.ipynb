{
 "cells": [
  {
   "cell_type": "code",
   "execution_count": 1,
   "id": "4ee6115d",
   "metadata": {
    "_cell_guid": "b1076dfc-b9ad-4769-8c92-a6c4dae69d19",
    "_uuid": "8f2839f25d086af736a60e9eeb907d3b93b6e0e5",
    "execution": {
     "iopub.execute_input": "2024-05-29T04:43:14.244090Z",
     "iopub.status.busy": "2024-05-29T04:43:14.243609Z",
     "iopub.status.idle": "2024-05-29T04:43:15.238790Z",
     "shell.execute_reply": "2024-05-29T04:43:15.237601Z"
    },
    "papermill": {
     "duration": 1.004478,
     "end_time": "2024-05-29T04:43:15.241645",
     "exception": false,
     "start_time": "2024-05-29T04:43:14.237167",
     "status": "completed"
    },
    "tags": []
   },
   "outputs": [],
   "source": [
    "# This Python 3 environment comes with many helpful analytics libraries installed\n",
    "# It is defined by the kaggle/python Docker image: https://github.com/kaggle/docker-python\n",
    "# For example, here's several helpful packages to load\n",
    "\n",
    "import numpy as np # linear algebra\n",
    "import pandas as pd # data processing, CSV file I/O (e.g. pd.read_csv)\n",
    "\n",
    "# Input data files are available in the read-only \"../input/\" directory\n",
    "# For example, running this (by clicking run or pressing Shift+Enter) will list all files under the input directory\n",
    "\n",
    "import os\n",
    "for dirname, _, filenames in os.walk('/kaggle/input'):\n",
    "    for filename in filenames:\n",
    "        print(os.path.join(dirname, filename))\n",
    "\n",
    "# You can write up to 20GB to the current directory (/kaggle/working/) that gets preserved as output when you create a version using \"Save & Run All\" \n",
    "# You can also write temporary files to /kaggle/temp/, but they won't be saved outside of the current session"
   ]
  },
  {
   "cell_type": "markdown",
   "id": "0298edbe",
   "metadata": {
    "papermill": {
     "duration": 0.003037,
     "end_time": "2024-05-29T04:43:15.248188",
     "exception": false,
     "start_time": "2024-05-29T04:43:15.245151",
     "status": "completed"
    },
    "tags": []
   },
   "source": [
    "# singly linked list:\n",
    "\n",
    "# steps:\n",
    "    - Create nodes\n",
    "    - Create linked list\n",
    "    - Add nodes to linked list\n",
    "    - Print linked list"
   ]
  },
  {
   "cell_type": "code",
   "execution_count": 2,
   "id": "32d59104",
   "metadata": {
    "execution": {
     "iopub.execute_input": "2024-05-29T04:43:15.256378Z",
     "iopub.status.busy": "2024-05-29T04:43:15.255824Z",
     "iopub.status.idle": "2024-05-29T04:43:15.268507Z",
     "shell.execute_reply": "2024-05-29T04:43:15.267230Z"
    },
    "papermill": {
     "duration": 0.019923,
     "end_time": "2024-05-29T04:43:15.271183",
     "exception": false,
     "start_time": "2024-05-29T04:43:15.251260",
     "status": "completed"
    },
    "tags": []
   },
   "outputs": [
    {
     "name": "stdout",
     "output_type": "stream",
     "text": [
      "John\n",
      "Ben\n",
      "Mathew\n"
     ]
    }
   ],
   "source": [
    "class Node:\n",
    "    def __init__(self, data):\n",
    "        self.data = data\n",
    "        self.next = None\n",
    "\n",
    "class LinkedList:\n",
    "    def __init__(self):\n",
    "        self.head = None \n",
    "    \n",
    "    def insert(self, newNode):\n",
    "        if self.head is None:\n",
    "            self.head = newNode\n",
    "        else:\n",
    "            lastNode = self.head \n",
    "            while True:\n",
    "                if lastNode.next is None:\n",
    "                    break\n",
    "                lastNode = lastNode.next \n",
    "            lastNode.next = newNode\n",
    "            \n",
    "    def printlist(self):\n",
    "        if self.head is None:\n",
    "            print(\"List is empty\")\n",
    "            return \n",
    "        \n",
    "        currentNode = self.head\n",
    "        while True:\n",
    "            if currentNode is None:\n",
    "                break\n",
    "            print(currentNode.data)\n",
    "            currentNode = currentNode.next\n",
    "            \n",
    "            \n",
    "        \n",
    "\n",
    "firstnode = Node(\"John\")\n",
    "linkedlist = LinkedList()\n",
    "linkedlist.insert(firstnode)\n",
    "secondnode = Node(\"Ben\")\n",
    "linkedlist.insert(secondnode)\n",
    "thirdnode = Node(\"Mathew\")\n",
    "linkedlist.insert(thirdnode)\n",
    "linkedlist.printlist()"
   ]
  },
  {
   "cell_type": "markdown",
   "id": "b3281226",
   "metadata": {
    "papermill": {
     "duration": 0.003046,
     "end_time": "2024-05-29T04:43:15.277857",
     "exception": false,
     "start_time": "2024-05-29T04:43:15.274811",
     "status": "completed"
    },
    "tags": []
   },
   "source": [
    "### Insert a new Node as the head"
   ]
  },
  {
   "cell_type": "markdown",
   "id": "00138de9",
   "metadata": {
    "papermill": {
     "duration": 0.002915,
     "end_time": "2024-05-29T04:43:15.284060",
     "exception": false,
     "start_time": "2024-05-29T04:43:15.281145",
     "status": "completed"
    },
    "tags": []
   },
   "source": [
    "# logic:\n",
    "    - preserve the current head node as temporary node \n",
    "    - make the new node as head node \n",
    "    - make next of the new node to the temporary node"
   ]
  },
  {
   "cell_type": "code",
   "execution_count": 3,
   "id": "26fa2f98",
   "metadata": {
    "execution": {
     "iopub.execute_input": "2024-05-29T04:43:15.292213Z",
     "iopub.status.busy": "2024-05-29T04:43:15.291836Z",
     "iopub.status.idle": "2024-05-29T04:43:15.304418Z",
     "shell.execute_reply": "2024-05-29T04:43:15.303408Z"
    },
    "papermill": {
     "duration": 0.019751,
     "end_time": "2024-05-29T04:43:15.307047",
     "exception": false,
     "start_time": "2024-05-29T04:43:15.287296",
     "status": "completed"
    },
    "tags": []
   },
   "outputs": [
    {
     "name": "stdout",
     "output_type": "stream",
     "text": [
      "Mathew\n",
      "John\n",
      "Ben\n"
     ]
    }
   ],
   "source": [
    "class Node:\n",
    "    def __init__(self, data):\n",
    "        self.data = data\n",
    "        self.next = None\n",
    "\n",
    "class LinkedList:\n",
    "    def __init__(self):\n",
    "        self.head = None \n",
    "    \n",
    "    def insertHead(self, newNode):\n",
    "        tempnode = self.head\n",
    "        self.head = newNode\n",
    "        self.head.next = tempnode\n",
    "        del tempnode\n",
    "    \n",
    "    def insertEnd(self, newNode):\n",
    "        if self.head is None:\n",
    "            self.head = newNode\n",
    "        else:\n",
    "            lastNode = self.head \n",
    "            while True:\n",
    "                if lastNode.next is None:\n",
    "                    break\n",
    "                lastNode = lastNode.next \n",
    "            lastNode.next = newNode\n",
    "    \n",
    "    def printlist(self):\n",
    "        if self.head is None:\n",
    "            print(\"List is empty\")\n",
    "            return \n",
    "        \n",
    "        currentNode = self.head\n",
    "        while True:\n",
    "            if currentNode is None:\n",
    "                break\n",
    "            print(currentNode.data)\n",
    "            currentNode = currentNode.next\n",
    "    \n",
    "firstnode = Node(\"John\")\n",
    "linkedlist = LinkedList()\n",
    "linkedlist.insertEnd(firstnode)\n",
    "secondnode = Node(\"Ben\")\n",
    "linkedlist.insertEnd(secondnode)\n",
    "thirdnode = Node(\"Mathew\")\n",
    "linkedlist.insertHead(thirdnode)\n",
    "linkedlist.printlist()\n"
   ]
  },
  {
   "cell_type": "code",
   "execution_count": null,
   "id": "98526710",
   "metadata": {
    "papermill": {
     "duration": 0.00319,
     "end_time": "2024-05-29T04:43:15.313726",
     "exception": false,
     "start_time": "2024-05-29T04:43:15.310536",
     "status": "completed"
    },
    "tags": []
   },
   "outputs": [],
   "source": []
  }
 ],
 "metadata": {
  "kaggle": {
   "accelerator": "none",
   "dataSources": [],
   "dockerImageVersionId": 30698,
   "isGpuEnabled": false,
   "isInternetEnabled": true,
   "language": "python",
   "sourceType": "notebook"
  },
  "kernelspec": {
   "display_name": "Python 3",
   "language": "python",
   "name": "python3"
  },
  "language_info": {
   "codemirror_mode": {
    "name": "ipython",
    "version": 3
   },
   "file_extension": ".py",
   "mimetype": "text/x-python",
   "name": "python",
   "nbconvert_exporter": "python",
   "pygments_lexer": "ipython3",
   "version": "3.10.13"
  },
  "papermill": {
   "default_parameters": {},
   "duration": 4.667502,
   "end_time": "2024-05-29T04:43:15.838915",
   "environment_variables": {},
   "exception": null,
   "input_path": "__notebook__.ipynb",
   "output_path": "__notebook__.ipynb",
   "parameters": {},
   "start_time": "2024-05-29T04:43:11.171413",
   "version": "2.5.0"
  }
 },
 "nbformat": 4,
 "nbformat_minor": 5
}
